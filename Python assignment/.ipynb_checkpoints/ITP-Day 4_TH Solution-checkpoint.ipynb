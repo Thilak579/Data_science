{
 "cells": [
  {
   "cell_type": "markdown",
   "metadata": {
    "colab_type": "text",
    "id": "EVe0yJGVjXSw"
   },
   "source": [
    "<table align=\"center\" width=100%>\n",
    "    <tr>\n",
    "        <td width=\"15%\">\n",
    "            <img src=\"homework.png\">\n",
    "        </td>\n",
    "        <td>\n",
    "            <div align=\"center\">\n",
    "                <font color=\"#21618C\" size=8px>\n",
    "                    <b> Take-Home <br>(Day 4)\n",
    "                    </b>\n",
    "                </font>\n",
    "            </div>\n",
    "        </td>\n",
    "    </tr>\n",
    "</table>"
   ]
  },
  {
   "cell_type": "markdown",
   "metadata": {
    "colab_type": "text",
    "id": "YBsRmmTNjXSx"
   },
   "source": [
    "### Let's begin with some hands-on practice exercises"
   ]
  },
  {
   "cell_type": "markdown",
   "metadata": {
    "colab_type": "text",
    "id": "94weSxBxjXSz"
   },
   "source": [
    "<table align=\"left\">\n",
    "    <tr>\n",
    "        <td width=\"6%\">\n",
    "            <img src=\"question_icon.png\">\n",
    "        </td>\n",
    "        <td>\n",
    "            <div align=\"left\", style=\"font-size:120%\">\n",
    "                <font color=\"#21618C\">\n",
    "                    <b>1. A list of words is given. Convert the words into uppercase (use lambda and map functions)</b>\n",
    "                </font>\n",
    "            </div>\n",
    "        </td>\n",
    "    </tr>\n",
    "</table>"
   ]
  },
  {
   "cell_type": "markdown",
   "metadata": {
    "colab_type": "text",
    "id": "MT-mGTVvjXS0"
   },
   "source": [
    "<b>lsbool = ['True','FALse','tRUe','tRue','False','faLse','True']</b><br>\n",
    "<b>Output: ['TRUE', 'FALSE', 'TRUE', 'TRUE', 'FALSE', 'FALSE', 'TRUE']</b>"
   ]
  },
  {
   "cell_type": "code",
   "execution_count": 0,
   "metadata": {
    "colab": {},
    "colab_type": "code",
    "id": "3vizWYOtjXS1",
    "outputId": "43d2cd6d-2371-475a-b69f-78f58ca7d28a"
   },
   "outputs": [
    {
     "name": "stdout",
     "output_type": "stream",
     "text": [
      "['TRUE', 'FALSE', 'TRUE', 'TRUE', 'FALSE', 'FALSE', 'TRUE']\n"
     ]
    }
   ],
   "source": [
    "lsbool = ['True','FALse','tRUe','tRue','False','faLse','True']\n",
    "\n",
    "output = list(map(lambda x: x.upper() , lsbool))           # upper() converts a string into Uppercase.\n",
    "                                                           # map() iterates the lambda function over the given list\n",
    "print(output)                                              # Print the output List."
   ]
  },
  {
   "cell_type": "markdown",
   "metadata": {
    "colab_type": "text",
    "id": "VmJx6aEpjXS9"
   },
   "source": [
    "<table align=\"left\">\n",
    "    <tr>\n",
    "        <td width=\"6%\">\n",
    "            <img src=\"question_icon.png\">\n",
    "        </td>\n",
    "        <td>\n",
    "            <div align=\"left\", style=\"font-size:120%\">\n",
    "                <font color=\"#21618C\">\n",
    "                    <b>2. Write a function to print the height of students in the class (here count of students is not fixed)</b> \n",
    "                </font>\n",
    "            </div>\n",
    "        </td>\n",
    "    </tr>\n",
    "</table>"
   ]
  },
  {
   "cell_type": "code",
   "execution_count": 0,
   "metadata": {
    "colab": {},
    "colab_type": "code",
    "id": "2EpFMQ6DjXS-",
    "outputId": "0fabc4da-3187-44d7-ba43-61de0a9f02c0"
   },
   "outputs": [
    {
     "name": "stdout",
     "output_type": "stream",
     "text": [
      "162\n",
      "170\n",
      "158\n",
      "163\n",
      "152\n"
     ]
    }
   ],
   "source": [
    "# define a function\n",
    "# we can pass variable number of arguments to '*height' \n",
    "def height_record(*height):\n",
    "    for value in height: \n",
    "        print(value)\n",
    "        \n",
    "# call the function\n",
    "height_record(162, 170, 158, 163, 152)"
   ]
  },
  {
   "cell_type": "markdown",
   "metadata": {
    "colab_type": "text",
    "id": "doEeVuVijXTB"
   },
   "source": [
    "<table align=\"left\">\n",
    "    <tr>\n",
    "        <td width=\"6%\">\n",
    "            <img src=\"question_icon.png\">\n",
    "        </td>\n",
    "        <td>\n",
    "            <div align=\"left\", style=\"font-size:120%\">\n",
    "                <font color=\"#21618C\">\n",
    "                    <b>3. Create a dictionary containing four lambda functions square, cube, squareroot, multiply by 2.</b>\n",
    "                    <br><br>\n",
    "                    <b>E.g. dict = {'Square': function for squaring, 'Cube': function for cube, 'Squareroot': function for squareroot, 'Double': function for double} and so on </b>\n",
    "                    <br><br>\n",
    "                    <b>Pass the values (input from the user) to the functions in the dictionary respectively. Then add the outputs of each function and print it.</b>\n",
    "                </font>\n",
    "            </div>\n",
    "        </td>\n",
    "    </tr>\n",
    "</table>"
   ]
  },
  {
   "cell_type": "code",
   "execution_count": 0,
   "metadata": {
    "colab": {},
    "colab_type": "code",
    "id": "L_l-o9tFjXTC",
    "outputId": "e25e812f-1d68-4bee-b2e0-fc5d1f41c6f9"
   },
   "outputs": [
    {
     "name": "stdout",
     "output_type": "stream",
     "text": [
      "Enter first number: 5\n",
      "Enter second number: 4\n",
      "Enter third number: 12\n",
      "Enter forth number: 3\n",
      "Sum :  98.46410161513775\n"
     ]
    }
   ],
   "source": [
    "# Take input from user for each function parameter inside the dictionary\n",
    "inpsq = int(input('Enter first number: '))\n",
    "inpcu = int(input('Enter second number: '))\n",
    "inproot = int(input('Enter third number: '))\n",
    "inpdouble = int(input('Enter forth number: '))\n",
    "\n",
    "# Creating a dictionary with keys: Square, Cuve, Squareroot and Double. The values are the lambda functions.\n",
    "dictLambda = {'Square': lambda x:x**2, 'Cube': lambda x:x**3, 'Squareroot': lambda x:(x**0.5),'Double': lambda x:x*2}\n",
    "\n",
    "# Passing the user input value to the lambda functions and storing the sum of the outputs in the 'result' variable \n",
    "result = dictLambda['Square'](inpsq) + dictLambda['Cube'](inpcu) + dictLambda['Squareroot'](inproot) + dictLambda['Double'](inpdouble)\n",
    "\n",
    "# Printing the sum\n",
    "print('Sum : ',result)"
   ]
  },
  {
   "cell_type": "markdown",
   "metadata": {
    "colab_type": "text",
    "id": "3vOq84pojXTF"
   },
   "source": [
    "<table align=\"left\">\n",
    "    <tr>\n",
    "        <td width=\"6%\">\n",
    "            <img src=\"question_icon.png\">\n",
    "        </td>\n",
    "        <td>\n",
    "            <div align=\"left\", style=\"font-size:120%\">\n",
    "                <font color=\"#21618C\">\n",
    "                    <b>4. A list of words is given. Define a function to find the words from the list that have their second character in uppercase</b>\n",
    "                </font>\n",
    "            </div>\n",
    "        </td>\n",
    "    </tr>\n",
    "</table>"
   ]
  },
  {
   "cell_type": "markdown",
   "metadata": {
    "colab_type": "text",
    "id": "JpJrkD7UjXTG"
   },
   "source": [
    "<b>ls = ['hello', 'Dear', 'hOw', 'ARe', 'You']</b><br>\n",
    "<b>Output: ['hOw', 'ARe']</b>"
   ]
  },
  {
   "cell_type": "code",
   "execution_count": 0,
   "metadata": {
    "colab": {},
    "colab_type": "code",
    "id": "WwOAyQ1ojXTH",
    "outputId": "5aa450c4-97e5-4597-807e-c79cf91e84da"
   },
   "outputs": [
    {
     "data": {
      "text/plain": [
       "['hOw', 'ARe']"
      ]
     },
     "execution_count": 4,
     "metadata": {
      "tags": []
     },
     "output_type": "execute_result"
    }
   ],
   "source": [
    "words = ['hello', 'Dear', 'hOw', 'ARe', 'You']\n",
    "\n",
    "def filterNames(x):                 # Creating a function filterNames(parameter) that will return the result as a boolean value\n",
    "    if x[1].isupper():              # Checking whether the second character of the word fromthe list 'ls' is in upper case or not.\n",
    "        return True\n",
    "    else:\n",
    "        return False\n",
    "list(filter(filterNames, words))       # Returns the words that have their second character in uppercase "
   ]
  },
  {
   "cell_type": "markdown",
   "metadata": {
    "colab_type": "text",
    "id": "jVH6Daa6jXTM"
   },
   "source": [
    "<table align=\"left\">\n",
    "    <tr>\n",
    "        <td width=\"6%\">\n",
    "            <img src=\"question_icon.png\">\n",
    "        </td>\n",
    "        <td>\n",
    "            <div align=\"left\", style=\"font-size:120%\">\n",
    "                <font color=\"#21618C\">\n",
    "                    <b>5. Define a function to filter the marks from the tuple \"tmarks\" that are greater than 40 and print corresponding names from the \"tnames\" tuple</b>\n",
    "                </font>\n",
    "            </div>\n",
    "        </td>\n",
    "    </tr>\n",
    "</table>"
   ]
  },
  {
   "cell_type": "markdown",
   "metadata": {
    "colab_type": "text",
    "id": "NHm0We8ejXTM"
   },
   "source": [
    "<b>tnames = ('John','Sharon','Jack','Annie')</b><br>\n",
    "<b>tmarks = (32,50,75,12)</b>"
   ]
  },
  {
   "cell_type": "code",
   "execution_count": 0,
   "metadata": {
    "colab": {},
    "colab_type": "code",
    "id": "epmyeK_1jXTN",
    "outputId": "ba3a271d-549e-4bc5-e387-d96ad7cfafe9"
   },
   "outputs": [
    {
     "name": "stdout",
     "output_type": "stream",
     "text": [
      "Sharon\n",
      "Jack\n"
     ]
    }
   ],
   "source": [
    "tnames = ('John','Sharon','Jack','Annie')     # Tuple with names of the students\n",
    "tmarks = (32,50,75,12)                        # Tuplw with marks of the respective students from 'tnames'\n",
    "\n",
    "def filterMarks(x):                           # Creating a function to check if the marks are above 40. Returns Boolean value.\n",
    "    if x > 40:                                # Check if marks are greater than 40. If yes,\n",
    "        return True                           # Return True\n",
    "    else:                                     # Else return False\n",
    "        return False\n",
    "\n",
    "marks = list(filter(filterMarks, tmarks))     # A list of marks that are greater than 40 is stored in marks variable\n",
    "\n",
    "for j in marks:                               # Iterating through the marks list \n",
    "    print(tnames[tmarks.index(j)])            # Printing the name of students wrt the marks indices"
   ]
  },
  {
   "cell_type": "markdown",
   "metadata": {
    "colab_type": "text",
    "id": "28KeZqwojXTQ"
   },
   "source": [
    "<table align=\"left\">\n",
    "    <tr>\n",
    "        <td width=\"6%\">\n",
    "            <img src=\"question_icon.png\">\n",
    "        </td>\n",
    "        <td>\n",
    "            <div align=\"left\", style=\"font-size:120%\">\n",
    "                <font color=\"#21618C\">\n",
    "                    <b> 6. A dictionary of names and their weights on earth is given. Find how much they will weigh on the moon. (use map and lambda functions)</b><br> \n",
    "                </font>\n",
    "            </div>\n",
    "        </td>\n",
    "    </tr>\n",
    "</table>"
   ]
  },
  {
   "cell_type": "markdown",
   "metadata": {
    "colab_type": "text",
    "id": "xlPrdxmvjXTQ"
   },
   "source": [
    "**Weight of people in kg**\n",
    "WeightOnEarth = {'John':45, 'Shelly':65, 'Marry':35}        \n",
    "\n",
    "**Gravitational force on the Moon**\n",
    "GMoon = 1.622                                              \n",
    "\n",
    "**Gravitational force on the Earth**\n",
    "GEarth = 9.81                                              \n",
    "\n",
    "**Output:** \n",
    "Weight on Moon:  {'John': 7.44, 'Shelly': 10.75, 'Marry': 5.79}"
   ]
  },
  {
   "cell_type": "code",
   "execution_count": 0,
   "metadata": {
    "colab": {},
    "colab_type": "code",
    "id": "oKt5BglQjXTR",
    "outputId": "8af4a3a1-9dba-444a-906c-4131be1b2f36"
   },
   "outputs": [
    {
     "name": "stdout",
     "output_type": "stream",
     "text": [
      "Weight on Moon:  {'John': 7.44, 'Shelly': 10.75, 'Marry': 5.79}\n"
     ]
    }
   ],
   "source": [
    "WeightOnEarth = {'John':45, 'Shelly':65, 'Marry':35}       # Weight of people in kg\n",
    "GMoon = 1.622                                              # Gravitational force on the Moon: 1.622 m/s2\n",
    "GEarth = 9.81                                              # Gravitational force on the Earth: 9.81 m/s2\n",
    "\n",
    "# Returning a the weights on moon as a list\n",
    "# Formula : wMoon = (wEarth * GMoon) / GEarth\n",
    "WeightOnMoon = list(map(lambda x: round((x*GMoon)/GEarth,2), WeightOnEarth.values()))\n",
    "\n",
    "# Zipping (Combining) the keys of dictionary 'WeightOnEarth' and the values of the list 'WeightOnMoon'\n",
    "WeightOnMoon_dict = dict(zip(WeightOnEarth.keys(), WeightOnMoon))\n",
    "\n",
    "print('Weight on Moon: ', WeightOnMoon_dict)\n",
    "\n",
    "\n",
    "# Alternate formula for conversion\n",
    "# Weight on moon is approx. 1/6 th of the weight on earth\n",
    "# WeightOnMoon = list(map(lambda x: round(x / 6, 2), WeightOnEarth.values()))\n",
    "# WeightOnMoon"
   ]
  },
  {
   "cell_type": "markdown",
   "metadata": {
    "colab_type": "text",
    "id": "e4fW_3YOjXTU"
   },
   "source": [
    "<table align=\"left\">\n",
    "    <tr>\n",
    "        <td width=\"6%\">\n",
    "            <img src=\"question_icon.png\">\n",
    "        </td>\n",
    "        <td>\n",
    "            <div align=\"left\", style=\"font-size:120%\">\n",
    "                <font color=\"#21618C\">\n",
    "                    <b> 7. A list containing multiple lists is given. Convert each inner list into sets and find intersection of all the sets (use reduce function)</b>\n",
    "                </font>\n",
    "            </div>\n",
    "        </td>\n",
    "    </tr>\n",
    "</table>"
   ]
  },
  {
   "cell_type": "markdown",
   "metadata": {
    "colab_type": "text",
    "id": "uv5bgmQ_jXTU"
   },
   "source": [
    "<b>given_sets = [[1, 2, 3, 4, 8], [2, 3, 8, 5, 6], [8, 4, 5, 3, 7], [6, 9, 8, 3], [9, 12, 3, 7, 6, 8, 4, 6, 21, 1, 6]]</b><br>\n",
    "<b>Output: {8, 3}</b>"
   ]
  },
  {
   "cell_type": "code",
   "execution_count": 0,
   "metadata": {
    "colab": {},
    "colab_type": "code",
    "id": "R8UtCsIvjXTV",
    "outputId": "998ede45-6801-446e-fe9f-297282de7c5f"
   },
   "outputs": [
    {
     "name": "stdout",
     "output_type": "stream",
     "text": [
      "{8, 3}\n"
     ]
    }
   ],
   "source": [
    "from functools import reduce\n",
    "given_sets = [[1, 2, 3, 4, 8], [2, 3, 8, 5, 6], [8, 4, 5, 3, 7], [6, 9, 8, 3], [9, 12, 3, 7, 6, 8, 4, 6, 21, 1, 6]]\n",
    "\n",
    "result_intersection = reduce(set.intersection, map(set, given_sets))\n",
    "print(result_intersection)"
   ]
  },
  {
   "cell_type": "markdown",
   "metadata": {
    "colab_type": "text",
    "id": "P8O7WkSEjXTY"
   },
   "source": [
    "<table align=\"left\">\n",
    "    <tr>\n",
    "        <td width=\"6%\">\n",
    "            <img src=\"question_icon.png\">\n",
    "        </td>\n",
    "        <td>\n",
    "            <div align=\"left\", style=\"font-size:120%\">\n",
    "                <font color=\"#21618C\"> \n",
    "                    <b> 8. Write a function to store the price of different products in the supermarket (number of products is not fixed)</b>\n",
    "                </font>\n",
    "            </div>\n",
    "        </td>\n",
    "    </tr>\n",
    "</table>"
   ]
  },
  {
   "cell_type": "code",
   "execution_count": 0,
   "metadata": {
    "colab": {},
    "colab_type": "code",
    "id": "eVdDFVdbjXTZ",
    "outputId": "b42d2cfd-c5ac-4143-e469-53f5efad36e7"
   },
   "outputs": [
    {
     "name": "stdout",
     "output_type": "stream",
     "text": [
      "Price of Milk is 55\n",
      "Price of Bread is 20\n",
      "Price of Butter is 35\n",
      "Price of Apple is 68\n"
     ]
    }
   ],
   "source": [
    "# create a function using '**kwargs' to store the prices of different products\n",
    "# we can use '**kwargs' to pass the variable number of keyword-ed arguments  \n",
    "def prod(**kwargs):\n",
    "    for i, j in kwargs.items():\n",
    "        print('Price of', i, 'is', j)\n",
    "        \n",
    "# call the function\n",
    "prod(Milk = 55, Bread = 20, Butter = 35, Apple = 68)"
   ]
  },
  {
   "cell_type": "markdown",
   "metadata": {
    "colab_type": "text",
    "id": "QLpiLCMCjXTb"
   },
   "source": [
    "<table align=\"left\">\n",
    "    <tr>\n",
    "        <td width=\"6%\">\n",
    "            <img src=\"question_icon.png\">\n",
    "        </td>\n",
    "        <td>\n",
    "            <div align=\"left\", style=\"font-size:120%\">\n",
    "                <font color=\"#21618C\">\n",
    "                    <b>9. Define a function to multiply two global variables, 16 and 12</b>  \n",
    "                </font>\n",
    "            </div>\n",
    "        </td>\n",
    "    </tr>\n",
    "</table>"
   ]
  },
  {
   "cell_type": "code",
   "execution_count": 0,
   "metadata": {
    "colab": {},
    "colab_type": "code",
    "id": "WsG_6QBZjXTc",
    "outputId": "6278ceae-b74a-4519-8c35-beebd27bfa6c"
   },
   "outputs": [
    {
     "name": "stdout",
     "output_type": "stream",
     "text": [
      "The product of 16 and 12 is: 192\n"
     ]
    }
   ],
   "source": [
    "# define the function\n",
    "def multi(x,y):\n",
    "    product = x * y\n",
    "    return product\n",
    "\n",
    "# global variables \n",
    "x = 16\n",
    "y = 12\n",
    "\n",
    "print(\"The product of\" , x, \"and\", y, \"is:\", multi(x, y))"
   ]
  },
  {
   "cell_type": "markdown",
   "metadata": {
    "colab_type": "text",
    "id": "n1CBjc_JjXTf"
   },
   "source": [
    "<table align=\"left\">\n",
    "    <tr>\n",
    "        <td width=\"6%\">\n",
    "            <img src=\"question_icon.png\">\n",
    "        </td>\n",
    "        <td>\n",
    "            <div align=\"left\", style=\"font-size:120%\">\n",
    "                <font color=\"#21618C\">\n",
    "                    <b> 10. Find the cumulative average of the list [9,8,7,6,5] using accumulate() and lambda function</b>\n",
    "                </font>\n",
    "            </div>\n",
    "        </td>\n",
    "    </tr>\n",
    "</table>"
   ]
  },
  {
   "cell_type": "markdown",
   "metadata": {
    "colab_type": "text",
    "id": "UBmQBuMYjXTf"
   },
   "source": [
    "<b>Input list: [9,8,7,6,5]</b>"
   ]
  },
  {
   "cell_type": "code",
   "execution_count": 0,
   "metadata": {
    "colab": {},
    "colab_type": "code",
    "id": "kNbBCWZgjXTg",
    "outputId": "31fd84a3-e483-47a6-d6e8-282b2c0b52e3"
   },
   "outputs": [
    {
     "name": "stdout",
     "output_type": "stream",
     "text": [
      "9\n",
      "8.5\n",
      "7.75\n",
      "6.875\n",
      "5.9375\n"
     ]
    }
   ],
   "source": [
    "from itertools import accumulate\n",
    "\n",
    "# Passing the list and the lambda function to find the average\n",
    "result = accumulate([9, 8, 7, 6, 5], lambda x, y: (x + y) / 2)      \n",
    "\n",
    "for res in result:              # Iterating through the result to see the each step\n",
    "    print(res)"
   ]
  }
 ],
 "metadata": {
  "colab": {
   "name": "ITP - Take Home (Day 4) - Solutions [v3.0 - 290420].ipynb",
   "provenance": []
  },
  "kernelspec": {
   "display_name": "Python 3",
   "language": "python",
   "name": "python3"
  },
  "language_info": {
   "codemirror_mode": {
    "name": "ipython",
    "version": 3
   },
   "file_extension": ".py",
   "mimetype": "text/x-python",
   "name": "python",
   "nbconvert_exporter": "python",
   "pygments_lexer": "ipython3",
   "version": "3.8.3"
  }
 },
 "nbformat": 4,
 "nbformat_minor": 1
}
